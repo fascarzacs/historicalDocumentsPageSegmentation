{
 "cells": [
  {
   "cell_type": "code",
   "execution_count": 1,
   "metadata": {
    "collapsed": true
   },
   "outputs": [],
   "source": [
    "import tensorflow as tf\n",
    "import numpy as np\n",
    "import util\n",
    "from timeit import default_timer as timer\n",
    "from datetime import datetime\n",
    "import pickle"
   ]
  },
  {
   "cell_type": "code",
   "execution_count": 3,
   "metadata": {},
   "outputs": [
    {
     "name": "stdout",
     "output_type": "stream",
     "text": [
      "(2041, 28, 28, 3)\n",
      "(2041,)\n"
     ]
    }
   ],
   "source": [
    "filehandlerReadXTrain = open('pathXTrain', 'rb') \n",
    "XTrainTemp = pickle.load(filehandlerReadXTrain)\n",
    "\n",
    "filehandlerReadYTrain = open('pathYTrain', 'rb') \n",
    "YTrainTemp = pickle.load(filehandlerReadYTrain)\n",
    "\n",
    "print(np.shape(XTrainTemp[0]))\n",
    "print(np.shape(YTrainTemp[0]))"
   ]
  },
  {
   "cell_type": "code",
   "execution_count": 4,
   "metadata": {},
   "outputs": [
    {
     "name": "stderr",
     "output_type": "stream",
     "text": [
      "Using TensorFlow backend.\n"
     ]
    }
   ],
   "source": [
    "from keras.models import Sequential\n",
    "from keras.layers import Dense, Activation, Conv2D, Flatten, MaxPool2D"
   ]
  },
  {
   "cell_type": "code",
   "execution_count": 5,
   "metadata": {},
   "outputs": [
    {
     "name": "stdout",
     "output_type": "stream",
     "text": [
      "[2 2 2 ..., 2 2 2]\n"
     ]
    },
    {
     "data": {
      "text/plain": [
       "((2041, 28, 28, 3), (2041,))"
      ]
     },
     "execution_count": 5,
     "metadata": {},
     "output_type": "execute_result"
    }
   ],
   "source": [
    "from keras.utils import np_utils\n",
    "from sklearn.preprocessing import LabelEncoder\n",
    "from sklearn.preprocessing import OneHotEncoder\n",
    "x_train = np.array(XTrainTemp[0])\n",
    "x_test = np.array(XTrainTemp[0])\n",
    "y_train = np.array(YTrainTemp[0])\n",
    "y_test = np.array(YTrainTemp[0])\n",
    "# integer encode\n",
    "label_encoder = LabelEncoder()\n",
    "integer_encoded = label_encoder.fit_transform(y_train)\n",
    "print(integer_encoded)\n",
    "\n",
    "# binary encode\n",
    "# onehot_encoder = OneHotEncoder(sparse=False)\n",
    "# integer_encoded = integer_encoded.reshape(len(integer_encoded), 1)\n",
    "# onehot_encoded = onehot_encoder.fit_transform(integer_encoded)\n",
    "# print(onehot_encoded)\n",
    "y_train = integer_encoded\n",
    "y_test = integer_encoded\n",
    "x_train.shape, y_train.shape"
   ]
  },
  {
   "cell_type": "code",
   "execution_count": 6,
   "metadata": {},
   "outputs": [
    {
     "data": {
      "text/plain": [
       "Counter({0: 99, 1: 1185, 2: 185, 3: 572})"
      ]
     },
     "execution_count": 6,
     "metadata": {},
     "output_type": "execute_result"
    }
   ],
   "source": [
    "from collections import Counter\n",
    "Counter(y_train)"
   ]
  },
  {
   "cell_type": "code",
   "execution_count": 7,
   "metadata": {},
   "outputs": [
    {
     "name": "stdout",
     "output_type": "stream",
     "text": [
      "_________________________________________________________________\n",
      "Layer (type)                 Output Shape              Param #   \n",
      "=================================================================\n",
      "conv2d_1 (Conv2D)            (None, 28, 28, 32)        896       \n",
      "_________________________________________________________________\n",
      "max_pooling2d_1 (MaxPooling2 (None, 14, 14, 32)        0         \n",
      "_________________________________________________________________\n",
      "conv2d_2 (Conv2D)            (None, 14, 14, 32)        9248      \n",
      "_________________________________________________________________\n",
      "max_pooling2d_2 (MaxPooling2 (None, 7, 7, 32)          0         \n",
      "_________________________________________________________________\n",
      "conv2d_3 (Conv2D)            (None, 7, 7, 32)          9248      \n",
      "_________________________________________________________________\n",
      "max_pooling2d_3 (MaxPooling2 (None, 3, 3, 32)          0         \n",
      "_________________________________________________________________\n",
      "flatten_1 (Flatten)          (None, 288)               0         \n",
      "_________________________________________________________________\n",
      "dense_1 (Dense)              (None, 128)               36992     \n",
      "_________________________________________________________________\n",
      "dense_2 (Dense)              (None, 4)                 516       \n",
      "=================================================================\n",
      "Total params: 56,900\n",
      "Trainable params: 56,900\n",
      "Non-trainable params: 0\n",
      "_________________________________________________________________\n"
     ]
    }
   ],
   "source": [
    "with tf.device('/gpu:0'):\n",
    "    model = Sequential()\n",
    "    model.add(Conv2D(32, 3, activation='relu', padding='same', input_shape=(28,28,3)))\n",
    "    model.add(MaxPool2D())\n",
    "    model.add(Conv2D(32, 3, activation='relu', padding='same'))\n",
    "    model.add(MaxPool2D())\n",
    "    model.add(Conv2D(32, 3, activation='relu', padding='same'))\n",
    "    model.add(MaxPool2D())\n",
    "    model.add(Flatten())\n",
    "    model.add(Dense(128, activation='relu'))\n",
    "    model.add(Dense(4, activation='softmax'))\n",
    "\n",
    "    model.compile(loss='sparse_categorical_crossentropy',\n",
    "                  optimizer='adam',\n",
    "                  metrics=['accuracy'])\n",
    "    model.summary()"
   ]
  },
  {
   "cell_type": "code",
   "execution_count": 8,
   "metadata": {},
   "outputs": [
    {
     "name": "stdout",
     "output_type": "stream",
     "text": [
      "Train on 2041 samples, validate on 2041 samples\n",
      "Epoch 1/20\n",
      "2041/2041 [==============================] - 9s - loss: 0.9823 - acc: 0.5718 - val_loss: 0.7892 - val_acc: 0.6673\n",
      "Epoch 2/20\n",
      "2041/2041 [==============================] - 0s - loss: 0.5611 - acc: 0.8275 - val_loss: 0.3652 - val_acc: 0.8819\n",
      "Epoch 3/20\n",
      "2041/2041 [==============================] - 0s - loss: 0.3738 - acc: 0.8839 - val_loss: 0.3666 - val_acc: 0.9123\n",
      "Epoch 4/20\n",
      "2041/2041 [==============================] - 0s - loss: 0.3031 - acc: 0.9098 - val_loss: 0.3020 - val_acc: 0.9035\n",
      "Epoch 5/20\n",
      "2041/2041 [==============================] - 0s - loss: 0.2885 - acc: 0.9167 - val_loss: 0.2622 - val_acc: 0.9226\n",
      "Epoch 6/20\n",
      "2041/2041 [==============================] - 0s - loss: 0.2651 - acc: 0.9245 - val_loss: 0.2447 - val_acc: 0.9265\n",
      "Epoch 7/20\n",
      "2041/2041 [==============================] - 0s - loss: 0.2471 - acc: 0.9270 - val_loss: 0.2300 - val_acc: 0.9275\n",
      "Epoch 8/20\n",
      "2041/2041 [==============================] - 0s - loss: 0.2326 - acc: 0.9339 - val_loss: 0.2121 - val_acc: 0.9412\n",
      "Epoch 9/20\n",
      "2041/2041 [==============================] - 0s - loss: 0.2216 - acc: 0.9383 - val_loss: 0.2020 - val_acc: 0.9397\n",
      "Epoch 10/20\n",
      "2041/2041 [==============================] - 0s - loss: 0.2139 - acc: 0.9373 - val_loss: 0.2141 - val_acc: 0.9422\n",
      "Epoch 11/20\n",
      "2041/2041 [==============================] - 0s - loss: 0.2280 - acc: 0.9339 - val_loss: 0.2089 - val_acc: 0.9461\n",
      "Epoch 12/20\n",
      "2041/2041 [==============================] - 0s - loss: 0.2138 - acc: 0.9397 - val_loss: 0.2065 - val_acc: 0.9402\n",
      "Epoch 13/20\n",
      "2041/2041 [==============================] - 0s - loss: 0.1909 - acc: 0.9476 - val_loss: 0.1985 - val_acc: 0.9412\n",
      "Epoch 14/20\n",
      "2041/2041 [==============================] - 0s - loss: 0.1872 - acc: 0.9441 - val_loss: 0.1772 - val_acc: 0.9495\n",
      "Epoch 15/20\n",
      "2041/2041 [==============================] - 0s - loss: 0.1827 - acc: 0.9476 - val_loss: 0.2054 - val_acc: 0.9500\n",
      "Epoch 16/20\n",
      "2041/2041 [==============================] - 0s - loss: 0.1770 - acc: 0.9505 - val_loss: 0.1607 - val_acc: 0.9530\n",
      "Epoch 17/20\n",
      "2041/2041 [==============================] - 0s - loss: 0.1702 - acc: 0.9490 - val_loss: 0.1656 - val_acc: 0.9520\n",
      "Epoch 18/20\n",
      "2041/2041 [==============================] - 0s - loss: 0.1594 - acc: 0.9530 - val_loss: 0.1580 - val_acc: 0.9544\n",
      "Epoch 19/20\n",
      "2041/2041 [==============================] - 0s - loss: 0.1697 - acc: 0.9471 - val_loss: 0.1570 - val_acc: 0.9554\n",
      "Epoch 20/20\n",
      "2041/2041 [==============================] - 0s - loss: 0.1563 - acc: 0.9544 - val_loss: 0.1597 - val_acc: 0.9544\n"
     ]
    }
   ],
   "source": [
    "with tf.device('/gpu:0'):\n",
    "    hist = model.fit(x_train, y_train, validation_data=(x_train, y_train), epochs=20, batch_size=69)"
   ]
  }
 ],
 "metadata": {
  "kernelspec": {
   "display_name": "Python 3",
   "language": "python",
   "name": "python3"
  },
  "language_info": {
   "codemirror_mode": {
    "name": "ipython",
    "version": 3
   },
   "file_extension": ".py",
   "mimetype": "text/x-python",
   "name": "python",
   "nbconvert_exporter": "python",
   "pygments_lexer": "ipython3",
   "version": "3.5.4"
  }
 },
 "nbformat": 4,
 "nbformat_minor": 2
}
