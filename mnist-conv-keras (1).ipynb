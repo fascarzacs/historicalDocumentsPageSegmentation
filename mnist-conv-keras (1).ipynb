{
 "cells": [
  {
   "cell_type": "code",
   "execution_count": 1,
   "metadata": {},
   "outputs": [
    {
     "name": "stderr",
     "output_type": "stream",
     "text": [
      "Using TensorFlow backend.\n"
     ]
    },
    {
     "name": "stdout",
     "output_type": "stream",
     "text": [
      "Downloading data from https://s3.amazonaws.com/img-datasets/mnist.npz\n",
      "11476992/11490434 [============================>.] - ETA: 0s"
     ]
    },
    {
     "data": {
      "text/plain": [
       "((60000, 28, 28), (60000,))"
      ]
     },
     "execution_count": 1,
     "metadata": {},
     "output_type": "execute_result"
    }
   ],
   "source": [
    "import numpy as np\n",
    "from keras.datasets import mnist\n",
    "\n",
    "(x_train, y_train), (x_test, y_test) = mnist.load_data()\n",
    "x_train.shape, y_train.shape"
   ]
  },
  {
   "cell_type": "code",
   "execution_count": 2,
   "metadata": {},
   "outputs": [
    {
     "data": {
      "text/plain": [
       "((60000, 28, 28, 1), (60000,))"
      ]
     },
     "execution_count": 2,
     "metadata": {},
     "output_type": "execute_result"
    }
   ],
   "source": [
    "x_train = x_train.reshape((-1,28,28,1))\n",
    "x_test = x_test.reshape((-1,28,28,1))\n",
    "x_train.shape, y_train.shape"
   ]
  },
  {
   "cell_type": "code",
   "execution_count": 8,
   "metadata": {},
   "outputs": [
    {
     "name": "stdout",
     "output_type": "stream",
     "text": [
      "_________________________________________________________________\n",
      "Layer (type)                 Output Shape              Param #   \n",
      "=================================================================\n",
      "conv2d_10 (Conv2D)           (None, 28, 28, 32)        320       \n",
      "_________________________________________________________________\n",
      "max_pooling2d_10 (MaxPooling (None, 14, 14, 32)        0         \n",
      "_________________________________________________________________\n",
      "conv2d_11 (Conv2D)           (None, 14, 14, 32)        9248      \n",
      "_________________________________________________________________\n",
      "max_pooling2d_11 (MaxPooling (None, 7, 7, 32)          0         \n",
      "_________________________________________________________________\n",
      "conv2d_12 (Conv2D)           (None, 7, 7, 32)          9248      \n",
      "_________________________________________________________________\n",
      "max_pooling2d_12 (MaxPooling (None, 3, 3, 32)          0         \n",
      "_________________________________________________________________\n",
      "flatten_4 (Flatten)          (None, 288)               0         \n",
      "_________________________________________________________________\n",
      "dense_6 (Dense)              (None, 128)               36992     \n",
      "_________________________________________________________________\n",
      "dense_7 (Dense)              (None, 10)                1290      \n",
      "=================================================================\n",
      "Total params: 57,098\n",
      "Trainable params: 57,098\n",
      "Non-trainable params: 0\n",
      "_________________________________________________________________\n"
     ]
    }
   ],
   "source": [
    "from keras.models import Sequential\n",
    "from keras.layers import Dense, Activation, Conv2D, Flatten, MaxPool2D\n",
    "\n",
    "model = Sequential()\n",
    "model.add(Conv2D(32, 3, activation='relu', padding='same', input_shape=(28,28,1)))\n",
    "model.add(MaxPool2D())\n",
    "model.add(Conv2D(32, 3, activation='relu', padding='same'))\n",
    "model.add(MaxPool2D())\n",
    "model.add(Conv2D(32, 3, activation='relu', padding='same'))\n",
    "model.add(MaxPool2D())\n",
    "model.add(Flatten())\n",
    "model.add(Dense(128, activation='relu'))\n",
    "model.add(Dense(10, activation='softmax'))\n",
    "\n",
    "model.compile(loss='sparse_categorical_crossentropy',\n",
    "              optimizer='adam',\n",
    "              metrics=['accuracy'])\n",
    "model.summary()"
   ]
  },
  {
   "cell_type": "code",
   "execution_count": 9,
   "metadata": {},
   "outputs": [
    {
     "name": "stdout",
     "output_type": "stream",
     "text": [
      "Train on 60000 samples, validate on 10000 samples\n",
      "Epoch 1/20\n",
      "60000/60000 [==============================] - 1s - loss: 5.6055 - acc: 0.4733 - val_loss: 1.6380 - val_acc: 0.7104\n",
      "Epoch 2/20\n",
      "60000/60000 [==============================] - 0s - loss: 0.6824 - acc: 0.8024 - val_loss: 0.3084 - val_acc: 0.9052\n",
      "Epoch 3/20\n",
      "60000/60000 [==============================] - 0s - loss: 0.2523 - acc: 0.9227 - val_loss: 0.1852 - val_acc: 0.9441\n",
      "Epoch 4/20\n",
      "60000/60000 [==============================] - 0s - loss: 0.1686 - acc: 0.9476 - val_loss: 0.1440 - val_acc: 0.9547\n",
      "Epoch 5/20\n",
      "60000/60000 [==============================] - 0s - loss: 0.1290 - acc: 0.9599 - val_loss: 0.1163 - val_acc: 0.9648\n",
      "Epoch 6/20\n",
      "60000/60000 [==============================] - 0s - loss: 0.1024 - acc: 0.9680 - val_loss: 0.1018 - val_acc: 0.9684\n",
      "Epoch 7/20\n",
      "60000/60000 [==============================] - 0s - loss: 0.0843 - acc: 0.9735 - val_loss: 0.0907 - val_acc: 0.9721\n",
      "Epoch 8/20\n",
      "60000/60000 [==============================] - 0s - loss: 0.0713 - acc: 0.9778 - val_loss: 0.0840 - val_acc: 0.9743\n",
      "Epoch 9/20\n",
      "60000/60000 [==============================] - 0s - loss: 0.0619 - acc: 0.9810 - val_loss: 0.0803 - val_acc: 0.9758\n",
      "Epoch 10/20\n",
      "60000/60000 [==============================] - 0s - loss: 0.0543 - acc: 0.9832 - val_loss: 0.0738 - val_acc: 0.9776\n",
      "Epoch 11/20\n",
      "60000/60000 [==============================] - 0s - loss: 0.0466 - acc: 0.9855 - val_loss: 0.0685 - val_acc: 0.9792\n",
      "Epoch 12/20\n",
      "60000/60000 [==============================] - 0s - loss: 0.0408 - acc: 0.9882 - val_loss: 0.0668 - val_acc: 0.9808\n",
      "Epoch 13/20\n",
      "60000/60000 [==============================] - 0s - loss: 0.0376 - acc: 0.9888 - val_loss: 0.0665 - val_acc: 0.9800\n",
      "Epoch 14/20\n",
      "60000/60000 [==============================] - 0s - loss: 0.0335 - acc: 0.9898 - val_loss: 0.0639 - val_acc: 0.9814\n",
      "Epoch 15/20\n",
      "60000/60000 [==============================] - 0s - loss: 0.0300 - acc: 0.9911 - val_loss: 0.0610 - val_acc: 0.9818\n",
      "Epoch 16/20\n",
      "60000/60000 [==============================] - 0s - loss: 0.0270 - acc: 0.9919 - val_loss: 0.0628 - val_acc: 0.9809\n",
      "Epoch 17/20\n",
      "60000/60000 [==============================] - 0s - loss: 0.0244 - acc: 0.9927 - val_loss: 0.0598 - val_acc: 0.9829\n",
      "Epoch 18/20\n",
      "60000/60000 [==============================] - 0s - loss: 0.0216 - acc: 0.9936 - val_loss: 0.0584 - val_acc: 0.9832\n",
      "Epoch 19/20\n",
      "60000/60000 [==============================] - 0s - loss: 0.0191 - acc: 0.9945 - val_loss: 0.0573 - val_acc: 0.9832\n",
      "Epoch 20/20\n",
      "60000/60000 [==============================] - 0s - loss: 0.0167 - acc: 0.9953 - val_loss: 0.0574 - val_acc: 0.9830\n"
     ]
    }
   ],
   "source": [
    "hist = model.fit(x_train, y_train, validation_data=(x_test, y_test), epochs=20, batch_size=2048)"
   ]
  },
  {
   "cell_type": "code",
   "execution_count": 11,
   "metadata": {},
   "outputs": [
    {
     "data": {
      "text/html": [
       "<div>\n",
       "<style>\n",
       "    .dataframe thead tr:only-child th {\n",
       "        text-align: right;\n",
       "    }\n",
       "\n",
       "    .dataframe thead th {\n",
       "        text-align: left;\n",
       "    }\n",
       "\n",
       "    .dataframe tbody tr th {\n",
       "        vertical-align: top;\n",
       "    }\n",
       "</style>\n",
       "<table border=\"1\" class=\"dataframe\">\n",
       "  <thead>\n",
       "    <tr style=\"text-align: right;\">\n",
       "      <th></th>\n",
       "      <th>acc</th>\n",
       "      <th>loss</th>\n",
       "      <th>val_acc</th>\n",
       "      <th>val_loss</th>\n",
       "    </tr>\n",
       "  </thead>\n",
       "  <tbody>\n",
       "    <tr>\n",
       "      <th>15</th>\n",
       "      <td>0.991883</td>\n",
       "      <td>0.027013</td>\n",
       "      <td>0.9809</td>\n",
       "      <td>0.062784</td>\n",
       "    </tr>\n",
       "    <tr>\n",
       "      <th>16</th>\n",
       "      <td>0.992750</td>\n",
       "      <td>0.024398</td>\n",
       "      <td>0.9829</td>\n",
       "      <td>0.059814</td>\n",
       "    </tr>\n",
       "    <tr>\n",
       "      <th>17</th>\n",
       "      <td>0.993583</td>\n",
       "      <td>0.021602</td>\n",
       "      <td>0.9832</td>\n",
       "      <td>0.058448</td>\n",
       "    </tr>\n",
       "    <tr>\n",
       "      <th>18</th>\n",
       "      <td>0.994533</td>\n",
       "      <td>0.019150</td>\n",
       "      <td>0.9832</td>\n",
       "      <td>0.057309</td>\n",
       "    </tr>\n",
       "    <tr>\n",
       "      <th>19</th>\n",
       "      <td>0.995333</td>\n",
       "      <td>0.016715</td>\n",
       "      <td>0.9830</td>\n",
       "      <td>0.057376</td>\n",
       "    </tr>\n",
       "  </tbody>\n",
       "</table>\n",
       "</div>"
      ],
      "text/plain": [
       "         acc      loss  val_acc  val_loss\n",
       "15  0.991883  0.027013   0.9809  0.062784\n",
       "16  0.992750  0.024398   0.9829  0.059814\n",
       "17  0.993583  0.021602   0.9832  0.058448\n",
       "18  0.994533  0.019150   0.9832  0.057309\n",
       "19  0.995333  0.016715   0.9830  0.057376"
      ]
     },
     "execution_count": 11,
     "metadata": {},
     "output_type": "execute_result"
    }
   ],
   "source": [
    "import pandas as pd\n",
    "import matplotlib.pyplot as plt\n",
    "%matplotlib inline\n",
    "\n",
    "\n",
    "df = pd.DataFrame(hist.history)\n",
    "df.tail()"
   ]
  },
  {
   "cell_type": "code",
   "execution_count": 12,
   "metadata": {},
   "outputs": [
    {
     "data": {
      "image/png": "[encoded data removed]",
      "text/plain": [
       "<matplotlib.figure.Figure at 0x7f9aa6b6ada0>"
      ]
     },
     "metadata": {},
     "output_type": "display_data"
    },
    {
     "data": {
      "image/png": "[encoded data removed]",
      "text/plain": [
       "<matplotlib.figure.Figure at 0x7f9aa6b6a6a0>"
      ]
     },
     "metadata": {},
     "output_type": "display_data"
    }
   ],
   "source": [
    "df.plot(y=['loss', 'val_loss'], figsize=(16,4), title='Loss')\n",
    "df.plot(y=['acc', 'val_acc'], figsize=(16,4), title='Accuracy');"
   ]
  },
  {
   "cell_type": "code",
   "execution_count": 19,
   "metadata": {},
   "outputs": [
    {
     "name": "stdout",
     "output_type": "stream",
     "text": [
      "Prediction: 7\n",
      "Real      : 7\n"
     ]
    },
    {
     "data": {
      "image/png": "[encoded data removed]",
      "text/plain": [
       "<matplotlib.figure.Figure at 0x7f9aa64bc390>"
      ]
     },
     "metadata": {},
     "output_type": "display_data"
    }
   ],
   "source": [
    "i = np.random.choice(len(x_test))\n",
    "y = model.predict_classes(x_test[i].reshape(1,28,28,1), verbose=0)[0]\n",
    "print(f'Prediction: {y}')\n",
    "print(f'Real      : {y_test[i]}')\n",
    "plt.imshow(x_test[i].reshape(28,28), cmap='gray')\n",
    "plt.show()"
   ]
  }
 ],
 "metadata": {
  "kernelspec": {
   "display_name": "Python 3",
   "language": "python",
   "name": "python3"
  },
  "language_info": {
   "codemirror_mode": {
    "name": "ipython",
    "version": 3
   },
   "file_extension": ".py",
   "mimetype": "text/x-python",
   "name": "python",
   "nbconvert_exporter": "python",
   "pygments_lexer": "ipython3",
   "version": "3.6.2"
  }
 },
 "nbformat": 4,
 "nbformat_minor": 2
}
