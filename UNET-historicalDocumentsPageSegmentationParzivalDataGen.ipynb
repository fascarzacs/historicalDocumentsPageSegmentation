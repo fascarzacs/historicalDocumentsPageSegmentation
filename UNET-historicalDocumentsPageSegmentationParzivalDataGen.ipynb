{
 "cells": [
  {
   "cell_type": "code",
   "execution_count": 1,
   "metadata": {
    "collapsed": true
   },
   "outputs": [],
   "source": [
    "import cv2\n",
    "import numpy as np\n",
    "import os\n",
    "from skimage.util import img_as_float\n",
    "from skimage import io\n",
    "from matplotlib import pyplot as plt\n",
    "import matplotlib.path as mplPath\n",
    "import util\n",
    "from timeit import default_timer as timer\n",
    "from datetime import datetime\n",
    "from skimage.segmentation import mark_boundaries"
   ]
  },
  {
   "cell_type": "code",
   "execution_count": 2,
   "metadata": {
    "collapsed": true
   },
   "outputs": [],
   "source": [
    "folderPageImages = 'parzivalDataset'; \n",
    "folderGroundThruth = 'groundTruth'\n",
    "folderUnetData = 'unetParzivalData'\n",
    "yimg_train = []\n",
    "yimg_test = []\n",
    "yimg_validation = []"
   ]
  },
  {
   "cell_type": "markdown",
   "metadata": {},
   "source": [
    "#### Leyendo las imágenes de los documentos y sus respectivos archivos XML que contienen los segmentos (ground truth) como coordenadas de polígonos\n"
   ]
  },
  {
   "cell_type": "code",
   "execution_count": 3,
   "metadata": {},
   "outputs": [
    {
     "name": "stdout",
     "output_type": "stream",
     "text": [
      "Time taken: 0:00:51.151218\n"
     ]
    }
   ],
   "source": [
    "import importlib\n",
    "importlib.reload(util)\n",
    "startTime = datetime.now()   \n",
    "ximg_train,      xgt_train, xnames_train      = util.unetReadPageImagesAndGroundTruth(folderPageImages, folderGroundThruth, 'train', 1)     \n",
    "ximg_test,       xgt_test, xnames_test       = util.unetReadPageImagesAndGroundTruth(folderPageImages, folderGroundThruth, 'test', 1)\n",
    "ximg_validation, xgt_validation, xnames_validation = util.unetReadPageImagesAndGroundTruth(folderPageImages, folderGroundThruth, 'validation', 1)\n",
    "print(\"Time taken:\", datetime.now() - startTime)"
   ]
  },
  {
   "cell_type": "markdown",
   "metadata": {},
   "source": [
    "### Convirtiendo las imágenes a escala de grises "
   ]
  },
  {
   "cell_type": "code",
   "execution_count": null,
   "metadata": {
    "collapsed": true
   },
   "outputs": [],
   "source": [
    "# ximg_train = util.convertToGrayscale(ximg_train)\n",
    "# ximg_test = util.convertToGrayscale(ximg_test)\n",
    "# ximg_validation = util.convertToGrayscale(ximg_validation)"
   ]
  },
  {
   "cell_type": "code",
   "execution_count": 4,
   "metadata": {
    "collapsed": true
   },
   "outputs": [],
   "source": [
    "from scipy.misc import imsave\n",
    "\n",
    "def unetSaveImages(arrImages, arrNames, folder) :\n",
    "    for i in range (len(arrImages)) :\n",
    "        imsave(folderUnetData + \"/\" + folder + \"/\" + \"image\" + \"/\" + arrNames[i], arrImages[i])\n",
    "    "
   ]
  },
  {
   "cell_type": "code",
   "execution_count": 5,
   "metadata": {
    "collapsed": true
   },
   "outputs": [],
   "source": [
    "unetSaveImages(ximg_train, xnames_train, 'train')\n",
    "unetSaveImages(ximg_test, xnames_test, 'test')\n",
    "unetSaveImages(ximg_validation, xnames_validation, 'validation')"
   ]
  },
  {
   "cell_type": "code",
   "execution_count": 8,
   "metadata": {
    "collapsed": true
   },
   "outputs": [],
   "source": [
    "def unetGenerateGroundThruth (arrImg, arrNames, arrGT, folder, factor) :\n",
    "    for i in range (len(arrImg)) :\n",
    "        image = arrImg[i]\n",
    "        imageC = image.copy()\n",
    "        imageC = util.rescale(imageC, factor, mode='reflect')\n",
    "        imageC[:,:] = (0,0,0)\n",
    "        regions = ['page','text','decoration', 'comment']\n",
    "        listLabels = []\n",
    "\n",
    "        for k in range(len(regions)) :\n",
    "            listPolygons = util.groundThruthFindCountourPointsByRegion(\n",
    "                folderGroundThruth + \"/\" + folder + \"/\" + arrGT[i],\n",
    "                regions[k])\n",
    "\n",
    "            flagPointProcessed = False    \n",
    "            for polygon in listPolygons :\n",
    "                polygon = np.int32([polygon])\n",
    "                pts = polygon.reshape((-1,1,2))\n",
    "                if regions[k] == 'text':\n",
    "                    cv2.fillConvexPoly(imageC,pts,(0,0,1), cv2.LINE_AA)\n",
    "                elif regions[k] == 'decoration':\n",
    "                    cv2.fillConvexPoly(imageC,pts,(1,0,0), cv2.LINE_AA)\n",
    "                elif regions[k] == 'page':\n",
    "                    cv2.fillConvexPoly(imageC,pts,(1,1,1), cv2.LINE_AA)\n",
    "                elif regions[k] == 'comment':\n",
    "                    cv2.fillConvexPoly(imageC,pts,(1, 0.75, 0.8), cv2.LINE_AA)                \n",
    "        imageC = util.rescale(imageC, factor**-1, mode='reflect')  \n",
    "        imsave(folderUnetData + \"/\" + folder + \"/\" + \"label\" + \"/\" + arrNames[i], imageC)\n"
   ]
  },
  {
   "cell_type": "code",
   "execution_count": 13,
   "metadata": {
    "collapsed": true
   },
   "outputs": [],
   "source": [
    "from matplotlib.path import Path\n",
    "def unetGenerateLabels (arrImg, arrNames, arrGT, folder, factor) :\n",
    "    arrLabels = []\n",
    "    for i in range (len(arrImg)) :\n",
    "        image = arrImg[i]\n",
    "        regions = ['page','text','decoration', 'comment']\n",
    "        label = np.ndarray(shape=(image.shape[0],image.shape[1], 5), dtype=float)\n",
    "        label[:,:] = (0.0, 0.0, 0.0, 0.0, 1.0)\n",
    "        for k in range(len(regions)) :\n",
    "            listPolygons = util.groundThruthFindCountourPointsByRegion(\n",
    "                folderGroundThruth + \"/\" + folder + \"/\" + arrGT[i],\n",
    "                regions[k])\n",
    "\n",
    "            flagPointProcessed = False    \n",
    "            for polygon in listPolygons :\n",
    "                #polygon = np.int32([polygon])\n",
    "                #pts = polygon.reshape((-1,1,2))\n",
    "                p = Path(polygon)\n",
    "                grid = p.contains_points(points)\n",
    "                if regions[k] == 'text':\n",
    "                    label[grid] = (1.0, 0.0, 0.0, 0.0, 0.0)\n",
    "                elif regions[k] == 'decoration':\n",
    "                    label[grid] = (0.0, 1.0, 0.0, 0.0, 0.0)\n",
    "                elif regions[k] == 'page':\n",
    "                    label[grid] = (0.0, 0.0, 1.0, 0.0, 0.0)\n",
    "                elif regions[k] == 'comment':\n",
    "                    label[grid] = (0.0, 0.0, 0.0, 1.0, 0.0)\n",
    "            arrLabels.add(label)\n",
    "        return arrLabels\n"
   ]
  },
  {
   "cell_type": "code",
   "execution_count": 14,
   "metadata": {},
   "outputs": [
    {
     "ename": "ValueError",
     "evalue": "'vertices' must be a 2D list or array with shape Nx2",
     "output_type": "error",
     "traceback": [
      "\u001b[1;31m---------------------------------------------------------------------------\u001b[0m",
      "\u001b[1;31mValueError\u001b[0m                                Traceback (most recent call last)",
      "\u001b[1;32m<ipython-input-14-5d175f5ed982>\u001b[0m in \u001b[0;36m<module>\u001b[1;34m()\u001b[0m\n\u001b[1;32m----> 1\u001b[1;33m \u001b[0marr\u001b[0m \u001b[1;33m=\u001b[0m \u001b[0munetGenerateLabels\u001b[0m\u001b[1;33m(\u001b[0m\u001b[0mximg_train\u001b[0m\u001b[1;33m,\u001b[0m \u001b[0mxnames_train\u001b[0m\u001b[1;33m,\u001b[0m \u001b[0mxgt_train\u001b[0m\u001b[1;33m,\u001b[0m\u001b[1;34m'train'\u001b[0m\u001b[1;33m,\u001b[0m \u001b[1;36m2\u001b[0m\u001b[1;33m**\u001b[0m\u001b[1;36m3\u001b[0m\u001b[1;33m)\u001b[0m\u001b[1;33m\u001b[0m\u001b[0m\n\u001b[0m",
      "\u001b[1;32m<ipython-input-13-9085e6432a94>\u001b[0m in \u001b[0;36munetGenerateLabels\u001b[1;34m(arrImg, arrNames, arrGT, folder, factor)\u001b[0m\n\u001b[0;32m     16\u001b[0m                 \u001b[0mpolygon\u001b[0m \u001b[1;33m=\u001b[0m \u001b[0mnp\u001b[0m\u001b[1;33m.\u001b[0m\u001b[0mint32\u001b[0m\u001b[1;33m(\u001b[0m\u001b[1;33m[\u001b[0m\u001b[0mpolygon\u001b[0m\u001b[1;33m]\u001b[0m\u001b[1;33m)\u001b[0m\u001b[1;33m\u001b[0m\u001b[0m\n\u001b[0;32m     17\u001b[0m                 \u001b[0mpts\u001b[0m \u001b[1;33m=\u001b[0m \u001b[0mpolygon\u001b[0m\u001b[1;33m.\u001b[0m\u001b[0mreshape\u001b[0m\u001b[1;33m(\u001b[0m\u001b[1;33m(\u001b[0m\u001b[1;33m-\u001b[0m\u001b[1;36m1\u001b[0m\u001b[1;33m,\u001b[0m\u001b[1;36m1\u001b[0m\u001b[1;33m,\u001b[0m\u001b[1;36m2\u001b[0m\u001b[1;33m)\u001b[0m\u001b[1;33m)\u001b[0m\u001b[1;33m\u001b[0m\u001b[0m\n\u001b[1;32m---> 18\u001b[1;33m                 \u001b[0mp\u001b[0m \u001b[1;33m=\u001b[0m \u001b[0mPath\u001b[0m\u001b[1;33m(\u001b[0m\u001b[0mpts\u001b[0m\u001b[1;33m)\u001b[0m\u001b[1;33m\u001b[0m\u001b[0m\n\u001b[0m\u001b[0;32m     19\u001b[0m                 \u001b[0mgrid\u001b[0m \u001b[1;33m=\u001b[0m \u001b[0mp\u001b[0m\u001b[1;33m.\u001b[0m\u001b[0mcontains_points\u001b[0m\u001b[1;33m(\u001b[0m\u001b[0mpoints\u001b[0m\u001b[1;33m)\u001b[0m\u001b[1;33m\u001b[0m\u001b[0m\n\u001b[0;32m     20\u001b[0m                 \u001b[1;32mif\u001b[0m \u001b[0mregions\u001b[0m\u001b[1;33m[\u001b[0m\u001b[0mk\u001b[0m\u001b[1;33m]\u001b[0m \u001b[1;33m==\u001b[0m \u001b[1;34m'text'\u001b[0m\u001b[1;33m:\u001b[0m\u001b[1;33m\u001b[0m\u001b[0m\n",
      "\u001b[1;32m~\\Anaconda3\\envs\\unet\\lib\\site-packages\\matplotlib\\path.py\u001b[0m in \u001b[0;36m__init__\u001b[1;34m(self, vertices, codes, _interpolation_steps, closed, readonly)\u001b[0m\n\u001b[0;32m    139\u001b[0m         \u001b[1;32mif\u001b[0m \u001b[1;33m(\u001b[0m\u001b[0mvertices\u001b[0m\u001b[1;33m.\u001b[0m\u001b[0mndim\u001b[0m \u001b[1;33m!=\u001b[0m \u001b[1;36m2\u001b[0m\u001b[1;33m)\u001b[0m \u001b[1;32mor\u001b[0m \u001b[1;33m(\u001b[0m\u001b[0mvertices\u001b[0m\u001b[1;33m.\u001b[0m\u001b[0mshape\u001b[0m\u001b[1;33m[\u001b[0m\u001b[1;36m1\u001b[0m\u001b[1;33m]\u001b[0m \u001b[1;33m!=\u001b[0m \u001b[1;36m2\u001b[0m\u001b[1;33m)\u001b[0m\u001b[1;33m:\u001b[0m\u001b[1;33m\u001b[0m\u001b[0m\n\u001b[0;32m    140\u001b[0m             \u001b[0mmsg\u001b[0m \u001b[1;33m=\u001b[0m \u001b[1;34m\"'vertices' must be a 2D list or array with shape Nx2\"\u001b[0m\u001b[1;33m\u001b[0m\u001b[0m\n\u001b[1;32m--> 141\u001b[1;33m             \u001b[1;32mraise\u001b[0m \u001b[0mValueError\u001b[0m\u001b[1;33m(\u001b[0m\u001b[0mmsg\u001b[0m\u001b[1;33m)\u001b[0m\u001b[1;33m\u001b[0m\u001b[0m\n\u001b[0m\u001b[0;32m    142\u001b[0m \u001b[1;33m\u001b[0m\u001b[0m\n\u001b[0;32m    143\u001b[0m         \u001b[1;32mif\u001b[0m \u001b[0mcodes\u001b[0m \u001b[1;32mis\u001b[0m \u001b[1;32mnot\u001b[0m \u001b[1;32mNone\u001b[0m\u001b[1;33m:\u001b[0m\u001b[1;33m\u001b[0m\u001b[0m\n",
      "\u001b[1;31mValueError\u001b[0m: 'vertices' must be a 2D list or array with shape Nx2"
     ]
    }
   ],
   "source": [
    "arr = unetGenerateLabels(ximg_train, xnames_train, xgt_train,'train', 2**3)"
   ]
  },
  {
   "cell_type": "code",
   "execution_count": 28,
   "metadata": {
    "collapsed": true
   },
   "outputs": [],
   "source": [
    "unetGenerateGroundThruth(ximg_train, xnames_train, xgt_train,'train', 2**3)\n",
    "unetGenerateGroundThruth(ximg_test, xnames_test, xgt_test, 'test', 2**3)\n",
    "unetGenerateGroundThruth(ximg_validation, xnames_validation, xgt_validation, 'validation', 2**3)"
   ]
  },
  {
   "cell_type": "markdown",
   "metadata": {},
   "source": [
    "<b>Pintando imagen original y ground truth</b>"
   ]
  },
  {
   "cell_type": "code",
   "execution_count": null,
   "metadata": {
    "collapsed": true
   },
   "outputs": [],
   "source": [
    "import importlib\n",
    "importlib.reload(util)\n",
    "imageGT = util.paintGroundTruthImage(imgSelectedToShow, gtToShow, folderGroundThruth, 'train', 2**3)"
   ]
  },
  {
   "cell_type": "code",
   "execution_count": null,
   "metadata": {
    "collapsed": true
   },
   "outputs": [],
   "source": [
    "util.subplot(titles=['original','gt'], images = [imgSelectedToShow, imageGT], rows = 1, imgPerRows = 2, size = 20)\n"
   ]
  },
  {
   "cell_type": "markdown",
   "metadata": {},
   "source": [
    "index 7 to samples"
   ]
  },
  {
   "cell_type": "markdown",
   "metadata": {},
   "source": []
  },
  {
   "cell_type": "code",
   "execution_count": null,
   "metadata": {
    "collapsed": true
   },
   "outputs": [],
   "source": [
    "# ximg_train = util.convertToGrayscale(ximg_train)\n",
    "# ximg_test = util.convertToGrayscale(ximg_test)\n",
    "# ximg_validation = util.convertToGrayscale(ximg_validation)"
   ]
  },
  {
   "cell_type": "markdown",
   "metadata": {},
   "source": [
    "### Obteniendo las clases o etiquetas por cada ejemplar de entrenamiento (patch)"
   ]
  }
 ],
 "metadata": {
  "kernelspec": {
   "display_name": "Python 3",
   "language": "python",
   "name": "python3"
  },
  "language_info": {
   "codemirror_mode": {
    "name": "ipython",
    "version": 3
   },
   "file_extension": ".py",
   "mimetype": "text/x-python",
   "name": "python",
   "nbconvert_exporter": "python",
   "pygments_lexer": "ipython3",
   "version": "3.5.4"
  }
 },
 "nbformat": 4,
 "nbformat_minor": 2
}
