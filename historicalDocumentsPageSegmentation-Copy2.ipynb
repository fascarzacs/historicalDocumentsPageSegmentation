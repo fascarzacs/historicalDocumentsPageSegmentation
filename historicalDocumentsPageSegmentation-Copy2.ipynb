{
 "cells": [
  {
   "cell_type": "code",
   "execution_count": 1,
   "metadata": {
    "collapsed": true
   },
   "outputs": [],
   "source": [
    "import cv2\n",
    "import numpy as np\n",
    "import os\n",
    "from skimage.segmentation import slic\n",
    "from skimage.segmentation import mark_boundaries\n",
    "from skimage.util import img_as_float\n",
    "from skimage import io\n",
    "from matplotlib import pyplot as plt\n",
    "import matplotlib.path as mplPath\n",
    "import xml.etree.ElementTree as ET"
   ]
  },
  {
   "cell_type": "code",
   "execution_count": 2,
   "metadata": {
    "collapsed": true
   },
   "outputs": [],
   "source": [
    "def plotImage(img, size):\n",
    "    fig, ax = plt.subplots(figsize=(size,size))\n",
    "    plt.imshow(img)\n",
    "    plt.xticks([]),plt.yticks([])\n",
    "    plt.show()"
   ]
  },
  {
   "cell_type": "code",
   "execution_count": 3,
   "metadata": {
    "collapsed": true
   },
   "outputs": [],
   "source": [
    "def subplot(titles, images, rows, imgPerRows, size):\n",
    "    fig, ax = plt.subplots(figsize=(size,size))\n",
    "    for i in range(len(images)):\n",
    "        plt.subplot(rows,imgPerRows,i+1),plt.imshow(images[i])\n",
    "        plt.title(titles[i])\n",
    "        plt.xticks([]),plt.yticks([])\n",
    "    plt.show()"
   ]
  },
  {
   "cell_type": "code",
   "execution_count": 4,
   "metadata": {
    "collapsed": true
   },
   "outputs": [],
   "source": [
    "def resizeImage (image):\n",
    "    factor = 2**-3\n",
    "    dim = (int(image.shape[1]*factor),int(image.shape[0]*factor))\n",
    "    resized = cv2.resize(image, dim, interpolation = cv2.INTER_AREA)\n",
    "    return resized"
   ]
  },
  {
   "cell_type": "code",
   "execution_count": 5,
   "metadata": {
    "collapsed": true
   },
   "outputs": [],
   "source": [
    "def generateCNNInputs(imgList, inputList, numSuperPixels, sizePatch):\n",
    "    for i in range(len(imgList)):\n",
    "        img = imgList[i]\n",
    "        imgCopy = img.copy()\n",
    "        segments = slic(img,numSuperPixels)\n",
    "        \n",
    "        for (j , segVal) in enumerate(np.unique(segments)):\n",
    "\n",
    "            if segVal == 0:\n",
    "                continue\n",
    "\n",
    "            mask = np.zeros(img.shape[:2], dtype = \"uint8\")\n",
    "            mask[segments == segVal] = 255\n",
    "            # detect contours in the mask and grab the largest one\n",
    "            cnts = cv2.findContours(mask.copy(), cv2.RETR_EXTERNAL, cv2.CHAIN_APPROX_SIMPLE)[-2]\n",
    "            c = max(cnts, key=cv2.contourArea)\n",
    "            #saving every single cell as a rectangular image.\n",
    "            x,y,w,h = cv2.boundingRect(c)\n",
    "            roi = image[y:y+h, x:x+w]\n",
    "            xPatch = 0\n",
    "            yPatch = 0\n",
    "            \n",
    "            if roi.shape[0]*roi.shape[1] < sizePatch**2:\n",
    "                xPatch = x-sizePach/2+w/2\n",
    "                yPatch = y-siezePatch/2+h/2\n",
    "            else:\n",
    "                xPatch = x+sizePach/2-w/2\n",
    "                yPatch = y+siezePatch/2-h/2\n",
    "            \n",
    "            patch = image[yPatch:y+sizePatch, xPatch:x+sizePatch]\n",
    "            patchGray = cv2.cvtColor(patch, cv2.COLOR_BGR2GRAY)\n",
    "            inputList.append(patchGray)\n",
    "            "
   ]
  },
  {
   "cell_type": "code",
   "execution_count": 6,
   "metadata": {
    "collapsed": true
   },
   "outputs": [],
   "source": [
    "def groundThruthFindCountourPointsByRegion (pathGroundThruthFile, region) :\n",
    "    listPixels = []\n",
    "    polygonsByRegion = []\n",
    "    pointsPolygon = []\n",
    "    tree = ET.parse(pathGroundThruthFile)\n",
    "    root = tree.getroot()\n",
    "\n",
    "    for neighbor in root.iter('TextRegion') :\n",
    "        \n",
    "        if (neighbor.attrib['type'] == region) :\n",
    "            pointsPolygon = []\n",
    "            \n",
    "            for coord in neighbor.findall('Coords') :\n",
    "                \n",
    "                for point in coord.findall('Point') :\n",
    "                    pointsPolygon.append([point.attrib['x'], point.attrib['y']])\n",
    "                    \n",
    "                polygonsByRegion.append(pointsPolygon)\n",
    "                \n",
    "    return polygonsByRegion"
   ]
  },
  {
   "cell_type": "code",
   "execution_count": 7,
   "metadata": {
    "collapsed": true
   },
   "outputs": [],
   "source": [
    "def isInsidePolygon (listPointsPolygon, x, y) :\n",
    "    bbPath = mplPath.Path(listPointsPolygon)\n",
    "    point = ([x, y])\n",
    "    return bbPath.contains_point(point)"
   ]
  },
  {
   "cell_type": "code",
   "execution_count": 8,
   "metadata": {
    "collapsed": true
   },
   "outputs": [],
   "source": [
    "def paintPolygon (listPointPolygonRegion, listPointsInsidePolygon, image, factor, B, G, R) :\n",
    "    imageWidth = image.shape[1] #Get image width\n",
    "    imageHeight = image.shape[0] #Get image height\n",
    "    xPos, yPos = 0, 0\n",
    "    while xPos < imageWidth: #Loop through rows\n",
    "        while yPos < imageHeight: #Loop through collumns\n",
    "            if isInsidePolygon (listPointPolygonRegion, xPos*factor, yPos*factor) :\n",
    "                image.itemset((yPos, xPos, 0), B)\n",
    "                image.itemset((yPos, xPos, 1), G)\n",
    "                image.itemset((yPos, xPos, 2), R)\n",
    "                listPointsInsidePolygon.append([xPos,yPos])\n",
    "            yPos = yPos + 1 #Increment Y position by 1\n",
    "\n",
    "        yPos = 0\n",
    "        xPos = xPos + 1 #Increment X position by 1    "
   ]
  },
  {
   "cell_type": "code",
   "execution_count": 9,
   "metadata": {},
   "outputs": [],
   "source": [
    "def paintPointsOutsideList (listPoints, image, B, G, R) :\n",
    "    imageWidth = image.shape[1] #Get image width\n",
    "    imageHeight = image.shape[0] #Get image height\n",
    "    #from IPython.core.debugger import Tracer; Tracer()() \n",
    "    xPos, yPos = 0, 0\n",
    "    for i in range(len(listPoints)) :\n",
    "        point = listPoints[i]\n",
    "        x = point[0]\n",
    "        y = point[1]\n",
    "        while xPos < imageWidth: #Loop through rows\n",
    "            while yPos < imageHeight: #Loop through collumns\n",
    "                if xPos == x and yPos == y :\n",
    "                    image.itemset((yPos, xPos, 0), B)\n",
    "                    image.itemset((yPos, xPos, 1), G)\n",
    "                    image.itemset((yPos, xPos, 2), R)\n",
    "\n",
    "                yPos = yPos + 1 #Increment Y position by 1\n",
    "\n",
    "            yPos = 0\n",
    "            xPos = xPos + 1 #Increment X position by 1       "
   ]
  },
  {
   "cell_type": "code",
   "execution_count": 10,
   "metadata": {
    "collapsed": true
   },
   "outputs": [],
   "source": [
    "path = 'groundTruth/d-006_kai.chen@unifr.ch.xml'\n",
    "#listPoints = groundThruthFindCountourPointsByRegion (path, 'decoration')\n",
    "#boolean = isInsidePolygon (listPoints, 1123, 936)\n",
    "#print (boolean)"
   ]
  },
  {
   "cell_type": "code",
   "execution_count": 11,
   "metadata": {
    "collapsed": true
   },
   "outputs": [],
   "source": [
    "nameFolder = 'parzivalDataset'\n",
    "ximg_train = []\n",
    "ximg_test = []\n",
    "ximg_va = []\n",
    "ximg = []\n",
    "imgOrigs = []\n",
    "\n",
    "x_train = []\n",
    "y_train = []\n",
    "x_test = []\n",
    "y_test = []\n",
    "x_va = []\n",
    "y_va = []\n",
    "x = []\n",
    "y = []\n"
   ]
  },
  {
   "cell_type": "code",
   "execution_count": 12,
   "metadata": {
    "collapsed": true
   },
   "outputs": [],
   "source": [
    "for file in os.listdir(nameFolder):\n",
    "    image = cv2.imread(nameFolder + \"/\" + file)\n",
    "    imageResized = resizeImage(image)\n",
    "    imgOrigs.append(image)\n",
    "    ximg.append(imageResized)\n"
   ]
  },
  {
   "cell_type": "code",
   "execution_count": 13,
   "metadata": {},
   "outputs": [
    {
     "name": "stdout",
     "output_type": "stream",
     "text": [
      "(37, 376, 250, 3)\n",
      "(10, 376, 250, 3)\n"
     ]
    }
   ],
   "source": [
    "ximg_train = ximg[:37]\n",
    "ximg_test = ximg[37:]\n",
    "\n",
    "print(np.shape(ximg_train))\n",
    "print(np.shape(ximg_test))"
   ]
  },
  {
   "cell_type": "code",
   "execution_count": 14,
   "metadata": {
    "collapsed": true
   },
   "outputs": [],
   "source": [
    "imgTr = ximg_train[0]\n",
    "imgTrainCopy = imgTr.copy()\n"
   ]
  },
  {
   "cell_type": "markdown",
   "metadata": {},
   "source": [
    "### Printing ground thruth segments on image: \n",
    "### Peripheric(outside page), Background(page), text block(text) ,decoration and comment"
   ]
  },
  {
   "cell_type": "code",
   "execution_count": 15,
   "metadata": {},
   "outputs": [
    {
     "name": "stdout",
     "output_type": "stream",
     "text": [
      "250\n",
      "376\n"
     ]
    }
   ],
   "source": [
    "imgTr\n",
    "imageWidth = imgTr.shape[1] #Get image width\n",
    "imageHeight = imgTr.shape[0] #Get image height\n",
    "print (imageWidth)\n",
    "print (imageHeight)"
   ]
  },
  {
   "cell_type": "code",
   "execution_count": 16,
   "metadata": {},
   "outputs": [],
   "source": [
    "path = 'groundTruth/d-006_kai.chen@unifr.ch.xml'\n",
    "regions = ['page','text','decoration','comment','periphery']\n",
    "listTotalPointsContainedInRegions = []\n",
    "\n",
    "for k in range(len(regions)) :\n",
    "    listPolygons = groundThruthFindCountourPointsByRegion(path,regions[k])\n",
    "    for t in range(len(listPolygons)) :\n",
    "        listPointPolygonRegion = listPolygons[t]\n",
    "        \n",
    "        if (regions[k] == 'decoration') :\n",
    "            paintPolygon(listPointPolygonRegion, listTotalPointsContainedInRegions, imgTr, 2**3, 0, 0, 255)\n",
    "        elif (regions[k] == 'text') : \n",
    "            paintPolygon(listPointPolygonRegion, listTotalPointsContainedInRegions, imgTr, 2**3, 0, 255, 0)\n",
    "        elif (regions[k] == 'comment') : \n",
    "            paintPolygon(listPointPolygonRegion, listTotalPointsContainedInRegions, imgTr, 2**3, 255, 0, 0) \n",
    "        elif (regions[k] == 'page') : \n",
    "            paintPolygon(listPointPolygonRegion, listTotalPointsContainedInRegions, imgTr, 2**3, 255, 255, 255)\n",
    "            \n",
    "    #paintPointsOutsideList(listTotalPointsContainedInRegions, imgTr, 255, 0, 0)"
   ]
  },
  {
   "cell_type": "code",
   "execution_count": 17,
   "metadata": {},
   "outputs": [
    {
     "data": {
      "image/png": "[encoded data removed]",
      "text/plain": [
       "<matplotlib.figure.Figure at 0x20f60ae45f8>"
      ]
     },
     "metadata": {},
     "output_type": "display_data"
    }
   ],
   "source": [
    "plotImage (imgTr,20)"
   ]
  }
 ],
 "metadata": {
  "kernelspec": {
   "display_name": "Python 3",
   "language": "python",
   "name": "python3"
  },
  "language_info": {
   "codemirror_mode": {
    "name": "ipython",
    "version": 3
   },
   "file_extension": ".py",
   "mimetype": "text/x-python",
   "name": "python",
   "nbconvert_exporter": "python",
   "pygments_lexer": "ipython3",
   "version": "3.5.3"
  }
 },
 "nbformat": 4,
 "nbformat_minor": 2
}
